{
 "cells": [
  {
   "cell_type": "code",
   "execution_count": 1,
   "id": "40422a7a-9208-4352-8847-7e80b9298647",
   "metadata": {},
   "outputs": [
    {
     "name": "stdin",
     "output_type": "stream",
     "text": [
      "나이를 입력하세요:  23\n"
     ]
    },
    {
     "name": "stdout",
     "output_type": "stream",
     "text": [
      "당신은 내년에 24 살입니다.\n"
     ]
    }
   ],
   "source": [
    "age = input(\"나이를 입력하세요: \") #age는 문자열!\n",
    "age = int(age) #숫자로 변경!\n",
    "print(\"당신은 내년에\",age + 1,\"살입니다.\")"
   ]
  },
  {
   "cell_type": "code",
   "execution_count": 2,
   "id": "97edd94d-82bd-4483-ad61-00f8b7c5a54c",
   "metadata": {},
   "outputs": [
    {
     "name": "stdin",
     "output_type": "stream",
     "text": [
      "나이를 입력하세요:  1\n"
     ]
    },
    {
     "name": "stdout",
     "output_type": "stream",
     "text": [
      "당신은 내년에 2 살입니다.\n"
     ]
    }
   ],
   "source": [
    "age = input(\"나이를 입력하세요: \") #age는 문자열!\n",
    "age = int(age) #숫자로 변경!\n",
    "age = age+1\n",
    "print(\"당신은 내년에\",age,\"살입니다.\")"
   ]
  },
  {
   "cell_type": "code",
   "execution_count": 3,
   "id": "72d66555-108a-486f-9d14-8d460193c28b",
   "metadata": {},
   "outputs": [
    {
     "name": "stdin",
     "output_type": "stream",
     "text": [
      "나이를 입력하세요:  3\n"
     ]
    },
    {
     "name": "stdout",
     "output_type": "stream",
     "text": [
      "당신은 내년에 4 살입니다.\n"
     ]
    }
   ],
   "source": [
    "age = int(input(\"나이를 입력하세요: \")) #age는 문자열!\n",
    "print(\"당신은 내년에\",age+1,\"살입니다.\")"
   ]
  },
  {
   "cell_type": "code",
   "execution_count": 4,
   "id": "da29eab8-ec10-4256-8d0e-b57d11fa3ba6",
   "metadata": {},
   "outputs": [
    {
     "name": "stdin",
     "output_type": "stream",
     "text": [
      "나이를 입력하세요:  2\n"
     ]
    },
    {
     "name": "stdout",
     "output_type": "stream",
     "text": [
      "당신은 내년에 3.0 살입니다.\n"
     ]
    }
   ],
   "source": [
    "age = float(input(\"나이를 입력하세요: \")) #age는 문자열!\n",
    "print(\"당신은 내년에\",age+1,\"살입니다.\")"
   ]
  },
  {
   "cell_type": "code",
   "execution_count": 5,
   "id": "e6c54b5f-36ac-4e62-b32b-65f025b4a041",
   "metadata": {},
   "outputs": [
    {
     "name": "stdin",
     "output_type": "stream",
     "text": [
      "나이를 입력하세요:  2\n"
     ]
    },
    {
     "name": "stdout",
     "output_type": "stream",
     "text": [
      "당신은 내년에 3.5 살입니다.\n"
     ]
    }
   ],
   "source": [
    "age = int(input(\"나이를 입력하세요: \")) #age는 문자열!\n",
    "print(\"당신은 내년에\",age+1.5,\"살입니다.\")"
   ]
  },
  {
   "cell_type": "code",
   "execution_count": 6,
   "id": "c6cb7a7b-e2cf-4e89-8e08-e1d8aa24cae2",
   "metadata": {},
   "outputs": [
    {
     "name": "stdin",
     "output_type": "stream",
     "text": [
      "나이를 입력하세요:  7\n"
     ]
    },
    {
     "name": "stdout",
     "output_type": "stream",
     "text": [
      "7 살입니다.\n"
     ]
    }
   ],
   "source": [
    "age = int(input(\"나이를 입력하세요: \")) #age는 문자열!\n",
    "print(age,\"살입니다.\")"
   ]
  },
  {
   "cell_type": "code",
   "execution_count": 9,
   "id": "aead86c0-ed26-4745-83f9-60680c7e8122",
   "metadata": {},
   "outputs": [
    {
     "name": "stdin",
     "output_type": "stream",
     "text": [
      "나이를 입력하세요:  2\n"
     ]
    },
    {
     "name": "stdout",
     "output_type": "stream",
     "text": [
      "2살입니다.\n"
     ]
    }
   ],
   "source": [
    "age = int(input(\"나이를 입력하세요: \")) #age는 문자열!\n",
    "print(str(age)+\"살입니다.\")"
   ]
  },
  {
   "cell_type": "code",
   "execution_count": 15,
   "id": "23cdbc1d-6d3e-410f-8f39-278696466101",
   "metadata": {},
   "outputs": [
    {
     "name": "stdin",
     "output_type": "stream",
     "text": [
      "숫자를 입력하세요 2\n"
     ]
    },
    {
     "name": "stdout",
     "output_type": "stream",
     "text": [
      "양수입니다.\n"
     ]
    }
   ],
   "source": [
    "#입력한 숫자의 양수/음수 유무 판단\n",
    "\n",
    "p = input (\"숫자를 입력하세요\")\n",
    "p = int(p)\n",
    "\n",
    "if p >= 0:\n",
    " print(\"양수입니다.\")\n",
    "\n",
    "elif p < 0:\n",
    " print(\"음수입니다.\")"
   ]
  },
  {
   "cell_type": "code",
   "execution_count": 16,
   "id": "de7a3c98-75cd-4c49-8f1f-e6b6b33b2a3f",
   "metadata": {},
   "outputs": [
    {
     "name": "stdin",
     "output_type": "stream",
     "text": [
      "숫자를 입력하세요 -1\n"
     ]
    },
    {
     "name": "stdout",
     "output_type": "stream",
     "text": [
      "음수입니다.\n"
     ]
    }
   ],
   "source": [
    "#입력한 숫자의 양수/음수 유무 판단\n",
    "\n",
    "p = input (\"숫자를 입력하세요\")\n",
    "p = int(p)\n",
    "\n",
    "if p >= 0:\n",
    " print(\"양수입니다.\")\n",
    "\n",
    "elif p < 0:\n",
    " print(\"음수입니다.\")"
   ]
  },
  {
   "cell_type": "code",
   "execution_count": 17,
   "id": "e9085cdd-a18a-4fc6-9c13-2079a71933bb",
   "metadata": {},
   "outputs": [
    {
     "name": "stdin",
     "output_type": "stream",
     "text": [
      "숫자를 입력 2\n"
     ]
    },
    {
     "name": "stdout",
     "output_type": "stream",
     "text": [
      "양수\n"
     ]
    }
   ],
   "source": [
    "num = int(input(\"숫자를 입력\"))\n",
    "if num==0:\n",
    "    print(\"0\")\n",
    "elif num < 0:\n",
    "    print(\"음수\")\n",
    "else:\n",
    "    print(\"양수\")"
   ]
  },
  {
   "cell_type": "code",
   "execution_count": 20,
   "id": "1231d471-143b-4662-ab65-81804e39c9b8",
   "metadata": {},
   "outputs": [
    {
     "name": "stdin",
     "output_type": "stream",
     "text": [
      "숫자를 입력 2\n"
     ]
    },
    {
     "name": "stdout",
     "output_type": "stream",
     "text": [
      "짝수\n"
     ]
    }
   ],
   "source": [
    "num = int(input(\"숫자를 입력\"))\n",
    "\n",
    "if num %2== 0:\n",
    " print(\"짝수\")\n",
    "\n",
    "else:\n",
    "    print(\"홀수\")"
   ]
  },
  {
   "cell_type": "code",
   "execution_count": 31,
   "id": "a9966262-c353-4e96-a3e3-3f67fee8bb00",
   "metadata": {},
   "outputs": [
    {
     "name": "stdin",
     "output_type": "stream",
     "text": [
      "A 가위바위보 5\n"
     ]
    },
    {
     "name": "stdout",
     "output_type": "stream",
     "text": [
      "OK\n"
     ]
    }
   ],
   "source": [
    "A =int(input(\"A 가위바위보\"))\n",
    "\n",
    "if A == 1 or 2 or 3:\n",
    " print(\"OK\")\n",
    "\n",
    "elif A > 3:\n",
    " print(\"No\")"
   ]
  },
  {
   "cell_type": "code",
   "execution_count": 32,
   "id": "f8347413-a7c0-4af2-92e6-8445dc2ef353",
   "metadata": {},
   "outputs": [
    {
     "name": "stdin",
     "output_type": "stream",
     "text": [
      "A 가위바위보 4\n"
     ]
    },
    {
     "name": "stdout",
     "output_type": "stream",
     "text": [
      "OK\n"
     ]
    }
   ],
   "source": [
    "A =int(input(\"A 가위바위보\"))\n",
    "\n",
    "if A == 1 or 2 or 3:\n",
    " print(\"OK\")\n",
    "\n",
    "elif A >= 4:\n",
    " print(\"No\")"
   ]
  },
  {
   "cell_type": "code",
   "execution_count": 35,
   "id": "02005615-3d97-49de-996f-c973126b5044",
   "metadata": {},
   "outputs": [
    {
     "name": "stdin",
     "output_type": "stream",
     "text": [
      "숫자를 입력 2\n"
     ]
    },
    {
     "name": "stdout",
     "output_type": "stream",
     "text": [
      "True\n"
     ]
    }
   ],
   "source": [
    "num = int(input(\"숫자를 입력\"))\n",
    "\n",
    "if num == 1 or num==2 or num == 3:\n",
    "    print(True)\n",
    "\n",
    "else:\n",
    "    print(False)"
   ]
  },
  {
   "cell_type": "code",
   "execution_count": null,
   "id": "1618ae97-dd14-41c2-bccb-32ccb56cf964",
   "metadata": {},
   "outputs": [],
   "source": []
  },
  {
   "cell_type": "code",
   "execution_count": 37,
   "id": "c9553818-1037-4c67-8b04-f488061798bf",
   "metadata": {},
   "outputs": [
    {
     "name": "stdin",
     "output_type": "stream",
     "text": [
      " 3 1\n"
     ]
    }
   ],
   "source": [
    "a,b =map(int, input().split())\n"
   ]
  },
  {
   "cell_type": "code",
   "execution_count": 38,
   "id": "7cc45611-f2c2-4c60-9b53-9203346af6b4",
   "metadata": {},
   "outputs": [
    {
     "data": {
      "text/plain": [
       "3"
      ]
     },
     "execution_count": 38,
     "metadata": {},
     "output_type": "execute_result"
    }
   ],
   "source": [
    "a"
   ]
  },
  {
   "cell_type": "code",
   "execution_count": 39,
   "id": "b02f2c67-bde3-4b3f-bd4b-8e4d92b9c5d2",
   "metadata": {},
   "outputs": [
    {
     "data": {
      "text/plain": [
       "1"
      ]
     },
     "execution_count": 39,
     "metadata": {},
     "output_type": "execute_result"
    }
   ],
   "source": [
    "b"
   ]
  },
  {
   "cell_type": "code",
   "execution_count": 41,
   "id": "ef08392d-f3fe-46a6-a3c5-20419ba70c75",
   "metadata": {},
   "outputs": [
    {
     "name": "stdin",
     "output_type": "stream",
     "text": [
      " A B\n"
     ]
    }
   ],
   "source": [
    "a,b =input().split()\n"
   ]
  },
  {
   "cell_type": "code",
   "execution_count": 44,
   "id": "794f0864-1b14-47e3-89a3-af1c71b9332c",
   "metadata": {},
   "outputs": [
    {
     "ename": "IndentationError",
     "evalue": "unindent does not match any outer indentation level (<string>, line 9)",
     "output_type": "error",
     "traceback": [
      "\u001b[0;36m  File \u001b[0;32m<string>:9\u001b[0;36m\u001b[0m\n\u001b[0;31m    else:\u001b[0m\n\u001b[0m         ^\u001b[0m\n\u001b[0;31mIndentationError\u001b[0m\u001b[0;31m:\u001b[0m unindent does not match any outer indentation level\n"
     ]
    }
   ],
   "source": [
    "a, b = map(int,input().split())\n",
    "\n",
    "if a > 3 or b >3:\n",
    "    print(\"잘못된입력\")\n",
    "elif a == b:\n",
    "    print(\"무승부\")\n",
    "elif(a==1 and b == 3) or (a == 2 and b == 1) or (a == 3 and b ==2):\n",
    "        print(\"A승B패\")\n",
    " else:\n",
    "        print(\"B승A패\")\n"
   ]
  },
  {
   "cell_type": "code",
   "execution_count": null,
   "id": "44bba153-d1d8-4d50-8059-2cc349fddc5d",
   "metadata": {},
   "outputs": [],
   "source": []
  }
 ],
 "metadata": {
  "kernelspec": {
   "display_name": "Python 3 (ipykernel)",
   "language": "python",
   "name": "python3"
  },
  "language_info": {
   "codemirror_mode": {
    "name": "ipython",
    "version": 3
   },
   "file_extension": ".py",
   "mimetype": "text/x-python",
   "name": "python",
   "nbconvert_exporter": "python",
   "pygments_lexer": "ipython3",
   "version": "3.12.6"
  }
 },
 "nbformat": 4,
 "nbformat_minor": 5
}
