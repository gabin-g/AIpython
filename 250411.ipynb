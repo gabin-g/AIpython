{
 "cells": [
  {
   "cell_type": "code",
   "execution_count": 2,
   "id": "55ddb39b-fe55-414c-850c-4f0858a4926d",
   "metadata": {},
   "outputs": [
    {
     "name": "stdout",
     "output_type": "stream",
     "text": [
      "남자입니다\n"
     ]
    }
   ],
   "source": [
    "ida ='250411-3111111'\n",
    "\n",
    "sv = ida[7] \n",
    "\n",
    "if sv == '3':\n",
    "  print(\"남자입니다\")\n",
    "elif sv == '4':\n",
    "  print(\"여자입니다\")\n",
    "else:\n",
    "  print(\"다시입력하세요\")"
   ]
  },
  {
   "cell_type": "code",
   "execution_count": 3,
   "id": "f49c3c41-57c0-436e-86f8-0805eaae7700",
   "metadata": {},
   "outputs": [
    {
     "name": "stdin",
     "output_type": "stream",
     "text": [
      "문자열:  sde\n"
     ]
    },
    {
     "name": "stdout",
     "output_type": "stream",
     "text": [
      "eds"
     ]
    }
   ],
   "source": [
    "s = input('문자열: ')\n",
    "for i in range(len(s)-1,-1,-1):\n",
    "    print(s[i], end='')"
   ]
  },
  {
   "cell_type": "code",
   "execution_count": 8,
   "id": "b06e587c-e9a7-4d40-958c-6d5b37a3c39b",
   "metadata": {},
   "outputs": [
    {
     "name": "stdin",
     "output_type": "stream",
     "text": [
      "문자열:  abc\n"
     ]
    },
    {
     "name": "stdout",
     "output_type": "stream",
     "text": [
      "회문아님\n"
     ]
    }
   ],
   "source": [
    "s1 = input('문자열: ')\n",
    "s2=''\n",
    "\n",
    "for i in range(len(s1)-1,-1,-1):\n",
    "    s2= s2 + s1[i]\n",
    "\n",
    "if s1 == s2:\n",
    "    print('회문')\n",
    "else:\n",
    "    print('회문아님')"
   ]
  },
  {
   "cell_type": "code",
   "execution_count": 9,
   "id": "85854fbe-caf2-45d0-a200-e9a3f91ff39f",
   "metadata": {},
   "outputs": [
    {
     "name": "stdout",
     "output_type": "stream",
     "text": [
      "['부산시', '금정구']\n"
     ]
    }
   ],
   "source": [
    "s ='부산시 금정구'\n",
    "print(s.split(' '))"
   ]
  },
  {
   "cell_type": "code",
   "execution_count": 11,
   "id": "2e7abd35-781b-4da6-8208-d84937a57e02",
   "metadata": {},
   "outputs": [
    {
     "name": "stdout",
     "output_type": "stream",
     "text": [
      "부산시 금정구\n"
     ]
    }
   ],
   "source": [
    "l = ['부산시 ' '금정구']\n",
    "print(' '.join(l))"
   ]
  },
  {
   "cell_type": "code",
   "execution_count": 13,
   "id": "7e3ef30d-6381-4c6a-9cca-770db7e93a0a",
   "metadata": {},
   "outputs": [
    {
     "name": "stdout",
     "output_type": "stream",
     "text": [
      "False\n"
     ]
    }
   ],
   "source": [
    "print('1234kg'.isdigit())"
   ]
  },
  {
   "cell_type": "code",
   "execution_count": 14,
   "id": "3c687773-c468-4b8f-be51-ee632f4ea0a3",
   "metadata": {},
   "outputs": [
    {
     "name": "stdout",
     "output_type": "stream",
     "text": [
      "False\n"
     ]
    }
   ],
   "source": [
    "print('1234kg'.isalpha())"
   ]
  },
  {
   "cell_type": "code",
   "execution_count": 15,
   "id": "c5564cc9-fc57-4ac3-8d7c-195ee62d16a2",
   "metadata": {},
   "outputs": [
    {
     "name": "stdout",
     "output_type": "stream",
     "text": [
      "True\n"
     ]
    }
   ],
   "source": [
    "print('1234kg'.isalnum())"
   ]
  },
  {
   "cell_type": "code",
   "execution_count": 16,
   "id": "1f69a60e-bb19-4425-853b-2af31ccc1237",
   "metadata": {},
   "outputs": [
    {
     "name": "stdout",
     "output_type": "stream",
     "text": [
      "True\n"
     ]
    }
   ],
   "source": [
    "print('1234kg'.islower())"
   ]
  },
  {
   "cell_type": "code",
   "execution_count": 17,
   "id": "9b411ab9-5094-4cf9-a0e8-b429bd1bf9ca",
   "metadata": {},
   "outputs": [
    {
     "name": "stdout",
     "output_type": "stream",
     "text": [
      "False\n"
     ]
    }
   ],
   "source": [
    "print('1234kg'.isupper())"
   ]
  },
  {
   "cell_type": "code",
   "execution_count": 18,
   "id": "442d9805-bd80-49da-a83f-f9462c9fd2d9",
   "metadata": {},
   "outputs": [
    {
     "name": "stdout",
     "output_type": "stream",
     "text": [
      "True\n"
     ]
    }
   ],
   "source": [
    "print(' '.isspace())"
   ]
  },
  {
   "cell_type": "code",
   "execution_count": null,
   "id": "0bc69952-6903-45ef-8e6c-4361b1fa47a0",
   "metadata": {},
   "outputs": [],
   "source": []
  }
 ],
 "metadata": {
  "kernelspec": {
   "display_name": "Python 3 (ipykernel)",
   "language": "python",
   "name": "python3"
  },
  "language_info": {
   "codemirror_mode": {
    "name": "ipython",
    "version": 3
   },
   "file_extension": ".py",
   "mimetype": "text/x-python",
   "name": "python",
   "nbconvert_exporter": "python",
   "pygments_lexer": "ipython3",
   "version": "3.12.6"
  }
 },
 "nbformat": 4,
 "nbformat_minor": 5
}
