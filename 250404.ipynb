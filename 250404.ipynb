{
 "cells": [
  {
   "cell_type": "code",
   "execution_count": 4,
   "id": "7675b8e1-5a11-447d-b996-6a40cb9220e3",
   "metadata": {},
   "outputs": [
    {
     "name": "stdin",
     "output_type": "stream",
     "text": [
      "온도 종류(섭씨 또는 화씨): 섭씨\n",
      "섭씨 온도: 44\n"
     ]
    },
    {
     "name": "stdout",
     "output_type": "stream",
     "text": [
      "화씨 온도77.8\n"
     ]
    }
   ],
   "source": [
    "kind = input('온도 종류(섭씨 또는 화씨):')\n",
    "temp = int(input(kind+' 온도:'))\n",
    "\n",
    "if kind =='섭씨':\n",
    "    print(f'화씨 온도{temp+9/5+32}')\n",
    "else:\n",
    "    print(f'섭씨 온도{(temp-32)*5/9}')"
   ]
  },
  {
   "cell_type": "code",
   "execution_count": 9,
   "id": "8ded7aaa-5fba-49a3-8efd-932c2f5c3279",
   "metadata": {},
   "outputs": [
    {
     "name": "stdin",
     "output_type": "stream",
     "text": [
      "온도 종류(섭씨 또는 화씨): 섭씨\n",
      "섭씨 온도: 68\n"
     ]
    },
    {
     "name": "stdout",
     "output_type": "stream",
     "text": [
      "화씨 온도101.8\n"
     ]
    }
   ],
   "source": [
    "kind = input('온도 종류(섭씨 또는 화씨):')\n",
    "temp = int(input(kind+' 온도:'))\n",
    "\n",
    "if kind =='섭씨':\n",
    "    print(f'화씨 온도{temp+9/5+32}') \n",
    "else:\n",
    "    print('섭씨 온도: %.2f' % ((temp-32)*5/9)) "
   ]
  },
  {
   "cell_type": "code",
   "execution_count": 14,
   "id": "6f6c9977-191e-4385-86fc-4e977c9eb897",
   "metadata": {},
   "outputs": [
    {
     "name": "stdout",
     "output_type": "stream",
     "text": [
      "1부터 100까지의 수 하나를 정했습니다.\n",
      "이 숫자를 맞혀보세요.\n"
     ]
    },
    {
     "name": "stdin",
     "output_type": "stream",
     "text": [
      "1~100 숫자 입력: 50\n"
     ]
    },
    {
     "name": "stdout",
     "output_type": "stream",
     "text": [
      "50보다 큽니다.\n"
     ]
    },
    {
     "name": "stdin",
     "output_type": "stream",
     "text": [
      "1~100 숫자 입력: 60\n"
     ]
    },
    {
     "name": "stdout",
     "output_type": "stream",
     "text": [
      "60보다 큽니다.\n"
     ]
    },
    {
     "name": "stdin",
     "output_type": "stream",
     "text": [
      "1~100 숫자 입력: 70\n"
     ]
    },
    {
     "name": "stdout",
     "output_type": "stream",
     "text": [
      "70보다 큽니다.\n"
     ]
    },
    {
     "name": "stdin",
     "output_type": "stream",
     "text": [
      "1~100 숫자 입력: 90\n"
     ]
    },
    {
     "name": "stdout",
     "output_type": "stream",
     "text": [
      "90보다 큽니다.\n"
     ]
    },
    {
     "name": "stdin",
     "output_type": "stream",
     "text": [
      "1~100 숫자 입력: 100\n"
     ]
    },
    {
     "name": "stdout",
     "output_type": "stream",
     "text": [
      "100보다 작습니다.\n"
     ]
    },
    {
     "name": "stdin",
     "output_type": "stream",
     "text": [
      "1~100 숫자 입력: 95\n"
     ]
    },
    {
     "name": "stdout",
     "output_type": "stream",
     "text": [
      "95보다 작습니다.\n"
     ]
    },
    {
     "name": "stdin",
     "output_type": "stream",
     "text": [
      "1~100 숫자 입력: 93\n"
     ]
    },
    {
     "name": "stdout",
     "output_type": "stream",
     "text": [
      "93보다 작습니다.\n"
     ]
    },
    {
     "name": "stdin",
     "output_type": "stream",
     "text": [
      "1~100 숫자 입력: 91\n"
     ]
    },
    {
     "name": "stdout",
     "output_type": "stream",
     "text": [
      "정답입니다! 8회 만에 맞혔습니다.\n"
     ]
    }
   ],
   "source": [
    "import random\n",
    "\n",
    "print('1부터 100까지의 수 하나를 정했습니다.')\n",
    "print('이 숫자를 맞혀보세요.')\n",
    "\n",
    "answer = random.randint(1, 100)\n",
    "times = 0\n",
    "\n",
    "while True:\n",
    "    user = int(input('1~100 숫자 입력:'))\n",
    "    times += 1\n",
    "    if user == answer:\n",
    "        break\n",
    "    elif user < answer:\n",
    "        print(f'{user}보다 큽니다.')\n",
    "    else:\n",
    "        print(f'{user}보다 작습니다.')\n",
    "\n",
    "print(f'정답입니다! {times}회 만에 맞혔습니다.')"
   ]
  },
  {
   "cell_type": "code",
   "execution_count": 17,
   "id": "08754415-2c03-447d-b890-33aff7856c64",
   "metadata": {},
   "outputs": [
    {
     "name": "stdout",
     "output_type": "stream",
     "text": [
      "[16, 2, 26, 2, 42, 15]\n"
     ]
    }
   ],
   "source": [
    "import random\n",
    "m_list = []\n",
    "\n",
    "for i in range(1,7):\n",
    "    num=random.randint(1,45)\n",
    "    m_list.append(num)\n",
    "\n",
    "print(m_list)"
   ]
  },
  {
   "cell_type": "code",
   "execution_count": 20,
   "id": "844cd8f4-8b5b-4ca8-9a7e-be07f557506e",
   "metadata": {},
   "outputs": [],
   "source": [
    "성적 = [85, 92, 78, 90, 87]\n",
    "평균 = sum(성적) / len(성적) "
   ]
  },
  {
   "cell_type": "code",
   "execution_count": 21,
   "id": "d0fca8c5-273a-47bd-8cd7-ff5cd2e190db",
   "metadata": {},
   "outputs": [
    {
     "data": {
      "text/plain": [
       "86.4"
      ]
     },
     "execution_count": 21,
     "metadata": {},
     "output_type": "execute_result"
    }
   ],
   "source": [
    "평균"
   ]
  },
  {
   "cell_type": "code",
   "execution_count": 22,
   "id": "98e50668-a533-459d-9248-e243ea3f5f4a",
   "metadata": {},
   "outputs": [
    {
     "name": "stdout",
     "output_type": "stream",
     "text": [
      "총합: 432\n",
      "평균: 86.4\n"
     ]
    }
   ],
   "source": [
    "성적 = [85, 92, 78, 90, 87]\n",
    "\n",
    "총합 = 0\n",
    "개수 = 0  \n",
    "\n",
    "for 점수 in 성적:\n",
    "    총합 += 점수 \n",
    "    개수 += 1  \n",
    "\n",
    "평균 = 총합 / 개수  \n",
    "\n",
    "print(\"총합:\", 총합)\n",
    "print(\"평균:\", 평균)"
   ]
  },
  {
   "cell_type": "code",
   "execution_count": 24,
   "id": "7f173e15-7287-4aeb-99e2-0340a35b5cb6",
   "metadata": {},
   "outputs": [],
   "source": [
    "성적 = [85, 92, 78, 90, 87]\n",
    "총합= 0\n",
    "평균=0.0\n",
    "항목수=0\n",
    "for 점수 in 성적:\n",
    "    총합+= 점수\n",
    "    항목수+=1\n",
    "평균=총합/항목수"
   ]
  },
  {
   "cell_type": "code",
   "execution_count": 25,
   "id": "a5570aaf-0ec2-45a9-9a7d-8315445ab90f",
   "metadata": {},
   "outputs": [
    {
     "data": {
      "text/plain": [
       "432"
      ]
     },
     "execution_count": 25,
     "metadata": {},
     "output_type": "execute_result"
    }
   ],
   "source": [
    "총합"
   ]
  },
  {
   "cell_type": "code",
   "execution_count": 26,
   "id": "16147eb7-03ee-4fa9-bd76-8cb15c24a18e",
   "metadata": {},
   "outputs": [
    {
     "data": {
      "text/plain": [
       "86.4"
      ]
     },
     "execution_count": 26,
     "metadata": {},
     "output_type": "execute_result"
    }
   ],
   "source": [
    "평균"
   ]
  },
  {
   "cell_type": "code",
   "execution_count": 27,
   "id": "4a55e37e-a2fc-470f-b3c5-f65b06dda51d",
   "metadata": {},
   "outputs": [
    {
     "name": "stdout",
     "output_type": "stream",
     "text": [
      "과일 리스트: ['사과', '바나나', '딸기', '포도']\n",
      "첫 번째 과일: 사과\n",
      "마지막 과일: 포도\n"
     ]
    }
   ],
   "source": [
    "fruits = [\"사과\", \"바나나\", \"딸기\", \"포도\"]\n",
    "print(f\"과일 리스트: {fruits}\")\n",
    "\n",
    "first_fruit = fruits[0]\n",
    "print(f\"첫 번째 과일: {first_fruit}\")\n",
    "\n",
    "last_fruit = fruits[-1] \n",
    "print(f\"마지막 과일: {last_fruit}\")"
   ]
  },
  {
   "cell_type": "code",
   "execution_count": 28,
   "id": "9ac8c5f9-865c-427c-b7bc-e5887fd87573",
   "metadata": {},
   "outputs": [
    {
     "name": "stdout",
     "output_type": "stream",
     "text": [
      "원래 과일 리스트: ['사과', '바나나', '딸기', '포도']\n",
      "요소 추가 후 리스트: ['사과', '바나나', '딸기', '포도', '오렌지']\n",
      "요소 삭제 후 리스트: ['사과', '딸기', '포도', '오렌지']\n"
     ]
    }
   ],
   "source": [
    "fruits = [\"사과\", \"바나나\", \"딸기\", \"포도\"]\n",
    "print(f\"원래 과일 리스트: {fruits}\")\n",
    "\n",
    "fruits.append(\"오렌지\") \n",
    "print(f\"요소 추가 후 리스트: {fruits}\")\n",
    "\n",
    "fruits.remove(\"바나나\") \n",
    "print(f\"요소 삭제 후 리스트: {fruits}\")\n"
   ]
  },
  {
   "cell_type": "code",
   "execution_count": 29,
   "id": "227ed8e1-f667-474d-ba65-06975b5f7c84",
   "metadata": {},
   "outputs": [
    {
     "name": "stdout",
     "output_type": "stream",
     "text": [
      "숫자 리스트의 요소:\n",
      "1\n",
      "5\n",
      "12\n",
      "8\n",
      "21\n"
     ]
    }
   ],
   "source": [
    "numbers = [1, 5, 12, 8, 21]\n",
    "print(\"숫자 리스트의 요소:\")\n",
    "for num in numbers:\n",
    "    print(num)"
   ]
  },
  {
   "cell_type": "code",
   "execution_count": 30,
   "id": "25fa1f84-3165-4509-9ced-9f775a97495e",
   "metadata": {},
   "outputs": [
    {
     "name": "stdout",
     "output_type": "stream",
     "text": [
      "원래 색깔 리스트: ['빨강', '초록', '파랑']\n",
      "요소 변경 후 색깔 리스트: ['빨강', '노랑', '파랑']\n"
     ]
    }
   ],
   "source": [
    "colors = [\"빨강\", \"초록\", \"파랑\"]\n",
    "print(f\"원래 색깔 리스트: {colors}\")\n",
    "\n",
    "colors[1] = \"노랑\"\n",
    "print(f\"요소 변경 후 색깔 리스트: {colors}\")"
   ]
  },
  {
   "cell_type": "code",
   "execution_count": 31,
   "id": "8e117d54-6115-445e-8122-bd6e1daf0b4d",
   "metadata": {},
   "outputs": [
    {
     "name": "stdout",
     "output_type": "stream",
     "text": [
      "첫 번째 리스트: [1, 2, 3]\n",
      "두 번째 리스트: [4, 5, 6]\n",
      "두 리스트 합치기 (+) 결과: [1, 2, 3, 4, 5, 6]\n"
     ]
    }
   ],
   "source": [
    "list1 = [1, 2, 3]\n",
    "list2 = [4, 5, 6]\n",
    "print(f\"첫 번째 리스트: {list1}\")\n",
    "print(f\"두 번째 리스트: {list2}\")\n",
    "\n",
    "\n",
    "combined_list_plus = list1 + list2\n",
    "print(f\"두 리스트 합치기 (+) 결과: {combined_list_plus}\")"
   ]
  },
  {
   "cell_type": "code",
   "execution_count": 32,
   "id": "da90c02e-8ff0-4be3-9023-0944f1ccf236",
   "metadata": {},
   "outputs": [
    {
     "name": "stdout",
     "output_type": "stream",
     "text": [
      "첫 번째 리스트: [1, 2, 3]\n",
      "두 번째 리스트: [4, 5, 6]\n",
      "첫 번째 리스트에 두 번째 리스트 확장 (extend()): [1, 2, 3, 4, 5, 6]\n"
     ]
    }
   ],
   "source": [
    "list1 = [1, 2, 3]\n",
    "list2 = [4, 5, 6]\n",
    "print(f\"첫 번째 리스트: {list1}\")\n",
    "print(f\"두 번째 리스트: {list2}\")\n",
    "\n",
    "list1.extend(list2)\n",
    "print(f\"첫 번째 리스트에 두 번째 리스트 확장 (extend()): {list1}\")"
   ]
  },
  {
   "cell_type": "code",
   "execution_count": null,
   "id": "3f752dca-7a3e-4ffc-b195-ef643a57fb2d",
   "metadata": {},
   "outputs": [],
   "source": []
  }
 ],
 "metadata": {
  "kernelspec": {
   "display_name": "Python 3 (ipykernel)",
   "language": "python",
   "name": "python3"
  },
  "language_info": {
   "codemirror_mode": {
    "name": "ipython",
    "version": 3
   },
   "file_extension": ".py",
   "mimetype": "text/x-python",
   "name": "python",
   "nbconvert_exporter": "python",
   "pygments_lexer": "ipython3",
   "version": "3.12.6"
  }
 },
 "nbformat": 4,
 "nbformat_minor": 5
}
