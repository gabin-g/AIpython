{
  "nbformat": 4,
  "nbformat_minor": 0,
  "metadata": {
    "colab": {
      "provenance": []
    },
    "kernelspec": {
      "name": "python3",
      "display_name": "Python 3"
    },
    "language_info": {
      "name": "python"
    }
  },
  "cells": [
    {
      "cell_type": "code",
      "execution_count": 5,
      "metadata": {
        "colab": {
          "base_uri": "https://localhost:8080/"
        },
        "id": "LrwrhsQudoGy",
        "outputId": "ca5c9280-8c76-404e-8c3c-940651c377cc"
      },
      "outputs": [
        {
          "output_type": "stream",
          "name": "stdout",
          "text": [
            "반지름이 5 인 원의 면적은 78.5398 입니다\n",
            "반지름이 5 인 원의 면적은 78.5398 입니다\n"
          ]
        }
      ],
      "source": [
        "#문제1:반지름이 5인 원의 면적을 구하시오\n",
        "r=5\n",
        "pi=3.141592\n",
        "A=pi*(r**2)\n",
        "\n",
        "print(\"반지름이\",r,\"인 원의 면적은\",A,\"입니다\")\n",
        "print(f\"반지름이 {r} 인 원의 면적은 {A} 입니다\")"
      ]
    },
    {
      "cell_type": "code",
      "source": [
        "#문제2: 분(정수)을 시간과 분으로 변환하여 출력하시오.\n",
        "time=100\n",
        "hour=time//60\n",
        "minute=time%60\n",
        "\n",
        "print(time,\"분은\",hour,\"시간\",minute,\"분입니다\")\n",
        "print(f\"{time} 분은 {hour} 시간 {minute} 분입니다\")"
      ],
      "metadata": {
        "colab": {
          "base_uri": "https://localhost:8080/"
        },
        "id": "_ErM-_O9e0ao",
        "outputId": "1ff7994b-8640-4d5d-b45e-3d9df4d47d43"
      },
      "execution_count": 6,
      "outputs": [
        {
          "output_type": "stream",
          "name": "stdout",
          "text": [
            "100 분은 1 시간 40 분입니다\n",
            "100 분은 1 시간 40 분입니다\n"
          ]
        }
      ]
    },
    {
      "cell_type": "code",
      "source": [],
      "metadata": {
        "id": "A-1PeQ8dfbPI"
      },
      "execution_count": null,
      "outputs": []
    }
  ]
}